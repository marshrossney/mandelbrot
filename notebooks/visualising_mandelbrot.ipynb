{
 "cells": [
  {
   "cell_type": "markdown",
   "id": "0b5b3f9e-6089-47a1-bc39-cdcf0f1a0055",
   "metadata": {},
   "source": [
    "# Visualisations of the Mandelbrot Set"
   ]
  },
  {
   "cell_type": "code",
   "execution_count": null,
   "id": "3911a107-7ed8-4ade-9275-7eb5641d1eeb",
   "metadata": {},
   "outputs": [],
   "source": [
    "# Install a little extension to make our code prettier\n",
    "!pip install nb_black\n",
    "\n",
    "%matplotlib inline\n",
    "%load_ext lab_black"
   ]
  },
  {
   "cell_type": "code",
   "execution_count": null,
   "id": "aa763c36-b9dd-48ab-86f9-73a3ad7b6b54",
   "metadata": {},
   "outputs": [],
   "source": [
    "import math\n",
    "\n",
    "from mandelbrot.fractals import (\n",
    "    Mandelbrot,\n",
    "    FEIGENBAUM_DELTA,\n",
    "    FEIGENBAUM_POINT,\n",
    ")\n",
    "from mandelbrot.utils import make_gif, get_quadratic_map_roots"
   ]
  },
  {
   "cell_type": "markdown",
   "id": "99e72225-3076-4de3-8698-99e8b2bb5633",
   "metadata": {},
   "source": [
    "## Static plots"
   ]
  },
  {
   "cell_type": "code",
   "execution_count": null,
   "id": "c2d42f0c-8c5d-4a15-974b-d2630488d311",
   "metadata": {},
   "outputs": [],
   "source": [
    "centre = complex(-0.8, 0)\n",
    "extent = 2.5\n",
    "resolution = 1000\n",
    "cmap = \"viridis\"\n",
    "\n",
    "fig = Mandelbrot(centre, extent, resolution).get_figure(cmap)\n",
    "fig.set_dpi(300)  # resize image \"dots per inch\" so we can see more clearly"
   ]
  },
  {
   "cell_type": "markdown",
   "id": "261c43fd-0b19-4ce0-8ad9-b0671dc843e5",
   "metadata": {},
   "source": [
    "## Exploring roots of the quadric map"
   ]
  },
  {
   "cell_type": "code",
   "execution_count": null,
   "id": "f34bf1b8-3203-4f1d-8588-55344cace90b",
   "metadata": {},
   "outputs": [],
   "source": [
    "roots = set(\n",
    "    get_quadratic_map_roots(2) + get_quadratic_map_roots(3) + get_quadratic_map_roots(4)\n",
    ")\n",
    "for root in roots:\n",
    "    fig = Mandelbrot(root, 1, 300).get_figure()\n",
    "    fig.gca().scatter([root.real], [root.imag], color=\"r\", marker=\"+\")\n",
    "    fig.set_dpi(100)"
   ]
  },
  {
   "cell_type": "markdown",
   "id": "b3dcb5e7-a56a-4f19-80d5-b514f5dfb465",
   "metadata": {},
   "source": [
    "## Making an animation"
   ]
  },
  {
   "cell_type": "code",
   "execution_count": null,
   "id": "7cae0379-4871-432c-8afb-2074226d7c5f",
   "metadata": {},
   "outputs": [],
   "source": [
    "centre = FEIGENBAUM_POINT\n",
    "resolution = 500\n",
    "n_fold = 3 \n",
    "n_frames = 100\n",
    "\n",
    "factor = pow(FEIGENBAUM_DELTA, n_fold / n_frames)\n",
    "\n",
    "frames = []\n",
    "extent = 1.5\n",
    "for i in range(n_frames):\n",
    "    extent /= factor\n",
    "    frames.append(Mandelbrot(complex(centre), extent, resolution).get_image())\n",
    "\n",
    "make_gif(frames, \"mandelbrot.gif\", 50)"
   ]
  },
  {
   "cell_type": "markdown",
   "id": "2c5b7e7e-2386-4790-b8ba-e616c201f6e0",
   "metadata": {},
   "source": [
    "![](mandelbrot.gif)"
   ]
  },
  {
   "cell_type": "raw",
   "id": "7acdc098-8152-431f-984d-4d25d25ebf14",
   "metadata": {},
   "source": [
    "<div>\n",
    "    <img src=\"mandelbrot.gif\" width=\"300\"/>\n",
    "</div>"
   ]
  },
  {
   "cell_type": "code",
   "execution_count": null,
   "id": "080bc529-ad4c-445d-aecf-1e986182ca95",
   "metadata": {},
   "outputs": [],
   "source": []
  }
 ],
 "metadata": {
  "kernelspec": {
   "display_name": "Python 3 (ipykernel)",
   "language": "python",
   "name": "python3"
  },
  "language_info": {
   "codemirror_mode": {
    "name": "ipython",
    "version": 3
   },
   "file_extension": ".py",
   "mimetype": "text/x-python",
   "name": "python",
   "nbconvert_exporter": "python",
   "pygments_lexer": "ipython3",
   "version": "3.9.12"
  }
 },
 "nbformat": 4,
 "nbformat_minor": 5
}
